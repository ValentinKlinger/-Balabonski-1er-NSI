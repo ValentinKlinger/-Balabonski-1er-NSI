{
 "cells": [
  {
   "cell_type": "markdown",
   "id": "42e8d2c8",
   "metadata": {},
   "source": [
    "Qu'affiche le programme suivant ? "
   ]
  },
  {
   "cell_type": "markdown",
   "id": "1631b335",
   "metadata": {},
   "source": [
    "<code>for i in range(1000):\n",
    "    for j in range(1000):\n",
    "        for k in range(1000):\n",
    "            for il in range(1000):\n",
    "                print('Mille sabords !')</code>"
   ]
  },
  {
   "cell_type": "markdown",
   "id": "373d4d6b",
   "metadata": {},
   "source": [
    "Ce programme affiche 1 000 000 000 000 fois 'Mille sabord !'"
   ]
  }
 ],
 "metadata": {
  "kernelspec": {
   "display_name": "Python 3 (ipykernel)",
   "language": "python",
   "name": "python3"
  },
  "language_info": {
   "codemirror_mode": {
    "name": "ipython",
    "version": 3
   },
   "file_extension": ".py",
   "mimetype": "text/x-python",
   "name": "python",
   "nbconvert_exporter": "python",
   "pygments_lexer": "ipython3",
   "version": "3.10.4"
  }
 },
 "nbformat": 4,
 "nbformat_minor": 5
}
