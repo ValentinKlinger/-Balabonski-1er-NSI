{
 "cells": [
  {
   "cell_type": "markdown",
   "id": "0c115cb9",
   "metadata": {},
   "source": [
    "# On cherche à perturber le comportement de l'algorithme des k plus proches voisins en ajoutant des points de classe noire dans la zone grisée."
   ]
  },
  {
   "cell_type": "markdown",
   "id": "925ebf82",
   "metadata": {},
   "source": [
    "## 1. Quel point noir peut-on rajouter à l'échantillon précédent pour que le point désigné par la croix soit classé noir par l'algorithme des k plus proches voisins avec k = 5 et la distence euclidienne ? \n"
   ]
  },
  {
   "cell_type": "markdown",
   "id": "e60a5c1e",
   "metadata": {},
   "source": [
    "On considère graphiquement que le point désigné à pour coordonné (1,5;2,9). \n",
    "Il faut donc que le point noir ajouté à l'échantillon soit l'un des 5 plus proche de ce point.\n",
    "\n",
    "Je commence par déterminé les 5 voisins avant l'ajout du point noir :\n",
    "<br>(1;3), (2;3), (1;2), (2;2), (1;4)\n",
    "\n",
    "Je détermine la distence euclidienne pour chaque point, dans le but de trouver le 5<sup>ème</sup> voisin.\n",
    "<br>(1;3) = 0,5099... ; (2;3) = 0,5099... ; (1;2) = 1,02956... ; (2;2) = 1,02956... ; (1;4) = 1,2083...\n",
    "\n",
    "Le point (1;4) étant le voisin le plus loin pris en compte, il faut que notre point noir ajouté à l'échentillon soit plus proche de lui, soit qu'il soit à moin de $\\frac{\\sqrt{146}}{10}$ du point. Ses point nous sont donné grâce à l'inéquation de l'équation de cercle :\n",
    "\n",
    "\n",
    "\n",
    "$$(\\frac{\\sqrt{146}}{10})² > (1.5x)²+(2.9y)² \\\\\n",
    "\\frac{73}{50} > (1.5x)²+(2.9y)²$$ \n"
   ]
  }
 ],
 "metadata": {
  "kernelspec": {
   "display_name": "Python 3 (ipykernel)",
   "language": "python",
   "name": "python3"
  },
  "language_info": {
   "codemirror_mode": {
    "name": "ipython",
    "version": 3
   },
   "file_extension": ".py",
   "mimetype": "text/x-python",
   "name": "python",
   "nbconvert_exporter": "python",
   "pygments_lexer": "ipython3",
   "version": "3.10.6"
  }
 },
 "nbformat": 4,
 "nbformat_minor": 5
}
