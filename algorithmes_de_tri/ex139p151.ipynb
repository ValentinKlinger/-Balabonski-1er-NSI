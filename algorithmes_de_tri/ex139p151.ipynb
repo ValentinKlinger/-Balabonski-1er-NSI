{
 "cells": [
  {
   "cell_type": "markdown",
   "id": "f3871bf5",
   "metadata": {},
   "source": [
    "# Ex 139 p 151 \n",
    "\n",
    "## Détailler les différentes étapes du programme ci-dessous, sur ce tableau :\n",
    "\n",
    "| 3 | 4 | 1 | 7 | 2 |"
   ]
  },
  {
   "cell_type": "code",
   "execution_count": 6,
   "id": "78f0a2d8",
   "metadata": {},
   "outputs": [],
   "source": [
    "def echange(t, i, j):\n",
    "    tmp = t[i]\n",
    "    t[i] = t[j]\n",
    "    t[j] = tmp"
   ]
  },
  {
   "cell_type": "code",
   "execution_count": 7,
   "id": "304fb570",
   "metadata": {},
   "outputs": [],
   "source": [
    "def trie_par_selection(t):\n",
    "    for i in range(len(t)):\n",
    "        m = i\n",
    "        for j in range(i + 1,len(t)):\n",
    "            if t[j] < t[m]:\n",
    "                m = j\n",
    "        echange(t, i, m)"
   ]
  },
  {
   "cell_type": "markdown",
   "id": "a294346d",
   "metadata": {},
   "source": [
    "### Explication du programme :\n",
    "\n",
    "Lorce que la fonction trie_par_selection(t) est lancncer.\n",
    "Pour chaque chaque céllule qui compose le tableau t.\n",
    "Il vérifie qu'il n'y ait pas une céllule qui là suit dans le tablau qui soit inferieur à elle.\n",
    "Si c'est le cas, les deux céllules permutes leur place grâce à la fonction echange."
   ]
  },
  {
   "cell_type": "markdown",
   "id": "b0cca9e1",
   "metadata": {},
   "source": [
    "### Effets sur notre tablau :\n",
    "\n",
    "| 3 | 4 | 1 | 7 | 2 |\n",
    "\n",
    "Devient :\n",
    "\n",
    "| 1 | 4 | 3 | 7 | 2 |\n",
    "\n",
    "Devient :\n",
    "\n",
    "| 1 | 3 | 4 | 7 | 2 |\n",
    "\n",
    "Devient :\n",
    "\n",
    "| 1 | 2 | 4 | 7 | 3 |\n",
    "\n",
    "Devient :\n",
    "\n",
    "| 1 | 2 | 3 | 7 | 4 |\n",
    "\n",
    "Devient :\n",
    "\n",
    "| 1 | 2 | 3 | 4 | 7 |"
   ]
  }
 ],
 "metadata": {
  "kernelspec": {
   "display_name": "Python 3 (ipykernel)",
   "language": "python",
   "name": "python3"
  },
  "language_info": {
   "codemirror_mode": {
    "name": "ipython",
    "version": 3
   },
   "file_extension": ".py",
   "mimetype": "text/x-python",
   "name": "python",
   "nbconvert_exporter": "python",
   "pygments_lexer": "ipython3",
   "version": "3.10.4"
  }
 },
 "nbformat": 4,
 "nbformat_minor": 5
}
